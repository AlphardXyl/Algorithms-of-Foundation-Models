{
  "nbformat": 4,
  "nbformat_minor": 0,
  "metadata": {
    "colab": {
      "provenance": [],
      "authorship_tag": "ABX9TyOlgsthieCmJpkUvv4He0Cu",
      "include_colab_link": true
    },
    "kernelspec": {
      "name": "python3",
      "display_name": "Python 3"
    },
    "language_info": {
      "name": "python"
    }
  },
  "cells": [
    {
      "cell_type": "markdown",
      "metadata": {
        "id": "view-in-github",
        "colab_type": "text"
      },
      "source": [
        "<a href=\"https://colab.research.google.com/github/AlphardXyl/Algorithms-of-Foundation-Models/blob/main/Quantization.ipynb\" target=\"_parent\"><img src=\"https://colab.research.google.com/assets/colab-badge.svg\" alt=\"Open In Colab\"/></a>"
      ]
    },
    {
      "cell_type": "code",
      "source": [
        "import numpy as np\n",
        "import random\n",
        "import time\n",
        "import math"
      ],
      "metadata": {
        "id": "1ckpiNgM_3WV"
      },
      "execution_count": 1,
      "outputs": []
    },
    {
      "cell_type": "code",
      "source": [
        "class Matrix:\n",
        "    q_min = None\n",
        "    q_max = None\n",
        "    d_min = None\n",
        "    d_max = None\n",
        "    d_matrix = None     #量化前的矩阵\n",
        "    q_matrix = None     #量化后的整数矩阵\n",
        "    de_matrix = None    #反量化的浮点数矩阵\n",
        "    scale = None            #比例因子\n",
        "    zero_point = None            #便宜量\n",
        "    def __init__(self,\n",
        "                 d_matrix,          #输入矩阵，需量化\n",
        "                 bits,                 #数据宽度\n",
        "                 unsigned = True   #默认为无符号整数\n",
        "                 ):\n",
        "        #求输入浮点数矩阵的最大值和最小值\n",
        "        self.d_matrix = d_matrix\n",
        "        self.d_min = np.min(self.d_matrix)\n",
        "        self.d_max = np.max(self.d_matrix)\n",
        "\n",
        "        self.bits = bits\n",
        "        self.unsigned = unsigned\n",
        "        # 量化表示的最大最小值\n",
        "        # 有符号整数，有符号型的对称量化适合用于关于零大致对称的数据\n",
        "        # 无符号型的对称量化很适合单尾分布的数据，比如RELU的激活值\n",
        "        if self.unsigned:\n",
        "            self.q_min = 0\n",
        "            self.q_max = math.pow(2, self.bits) - 1\n",
        "        else:\n",
        "            self.q_min = -math.pow(2, self.bits - 1)\n",
        "            self.q_max = math.pow(2, self.bits - 1) - 1\n",
        "\n",
        "        # 求比例因子/规模因子\n",
        "        self.scale = (self.d_max - self.d_min) / (self.q_max - self.q_min)\n",
        "        # 求偏移量，保证零点的量化没有误差，\n",
        "        # 可确保像zero padding或ReLU这样的常规操作不会引起量化错误\n",
        "        self.zero_point = np.round(self.q_min - (self.d_min / self.scale))\n",
        "\n",
        "    #单一矩阵做量化\n",
        "    def quant(self):\n",
        "         B = self.d_matrix / self.scale  + self.zero_point\n",
        "         self.q_matrix = np.round(np.clip(B, self.q_min, self.q_max))\n",
        "         return self.q_matrix\n",
        "\n",
        "    # 单一矩阵进行反量化\n",
        "    def dequant(self):\n",
        "        self.de_matrix = self.scale * (self.q_matrix - self.zero_point)\n",
        "        return self.de_matrix\n"
      ],
      "metadata": {
        "id": "1GN5wLaBFbg0"
      },
      "execution_count": 2,
      "outputs": []
    },
    {
      "cell_type": "code",
      "source": [
        "A = np.random.rand(5,5)\n",
        "B = np.random.rand(5,5)\n",
        "print(A)\n",
        "print(B)"
      ],
      "metadata": {
        "colab": {
          "base_uri": "https://localhost:8080/"
        },
        "id": "0k53ffunBHsO",
        "outputId": "559a57ed-e048-464d-a42c-646a1aa55f90"
      },
      "execution_count": 3,
      "outputs": [
        {
          "output_type": "stream",
          "name": "stdout",
          "text": [
            "[[0.73240079 0.89004225 0.48354005 0.26454259 0.29483055]\n",
            " [0.69249232 0.00470905 0.94349743 0.15928171 0.06216644]\n",
            " [0.96357621 0.04829028 0.4329498  0.93150658 0.94311457]\n",
            " [0.0547627  0.26454855 0.66332886 0.50795928 0.66512683]\n",
            " [0.88365271 0.74941684 0.25898767 0.94220583 0.44689147]]\n",
            "[[0.57643921 0.67052365 0.4356318  0.97408749 0.77778911]\n",
            " [0.59634418 0.44019563 0.91910832 0.27502851 0.41685161]\n",
            " [0.37599485 0.61869722 0.40745316 0.83529881 0.09033823]\n",
            " [0.48548435 0.44496265 0.6298603  0.39900219 0.08523221]\n",
            " [0.43778719 0.09340143 0.6268506  0.35819252 0.45442867]]\n"
          ]
        }
      ]
    },
    {
      "cell_type": "code",
      "source": [
        "Am = Matrix(A, 8)\n",
        "Am.quant()"
      ],
      "metadata": {
        "colab": {
          "base_uri": "https://localhost:8080/"
        },
        "id": "8J8M36w2Fgmb",
        "outputId": "083231dc-e858-43be-f761-8d0bb45bfa8d"
      },
      "execution_count": 4,
      "outputs": [
        {
          "output_type": "execute_result",
          "data": {
            "text/plain": [
              "array([[194., 236., 128.,  69.,  77.],\n",
              "       [183.,   0., 250.,  41.,  16.],\n",
              "       [255.,  12., 114., 247., 250.],\n",
              "       [ 14.,  69., 175., 134., 176.],\n",
              "       [234., 198.,  68., 250., 118.]])"
            ]
          },
          "metadata": {},
          "execution_count": 4
        }
      ]
    },
    {
      "cell_type": "code",
      "source": [
        "def quant(Mat):\n",
        "  Mat_scale = (np.max(Mat) - np.min(Mat))/255\n",
        "  Mat_offset = np.round(np.min(Mat)/Mat_scale)\n",
        "  Mat_int = np.clip(np.round(Mat / Mat_scale - Mat_offset), 0, 255)\n",
        "  return Mat_int\n",
        "\n",
        "def dequant(Mat_int, Mat):\n",
        "  Mat_scale = (np.max(Mat) - np.min(Mat))/255\n",
        "  Mat_offset = np.round(np.min(Mat)/Mat_scale)\n",
        "  Mat_deq = (Mat_int + Mat_offset) * Mat_scale\n",
        "  return Mat_deq\n",
        "\n",
        "def quant_error(Mat):\n",
        "  Mat_int = quant(Mat)\n",
        "  Mat_deq = dequant(Mat_int, Mat)\n",
        "  error = np.sum((Mat - Mat_deq)**2 / 2)"
      ],
      "metadata": {
        "id": "RxifjzwDD4m8"
      },
      "execution_count": 5,
      "outputs": []
    },
    {
      "cell_type": "code",
      "source": [
        "def quant_multiply(M1, M2, bit):\n",
        "  Mat1 = Matrix(M1, bit)\n",
        "  Mat2 = Matrix(M2, bit)\n",
        "  M = Mat1.scale * Mat2.scale\n",
        "  P = (Mat1.quant() - Mat1.zero_point) @ (Mat2.quant() - Mat2.zero_point)\n",
        "  return M*P"
      ],
      "metadata": {
        "id": "tIdbLktWGsn4"
      },
      "execution_count": 6,
      "outputs": []
    },
    {
      "cell_type": "code",
      "source": [
        "A_scale = (np.max(A) - np.min(A))/255\n",
        "B_scale = (np.max(B) - np.min(B))/255\n",
        "A_offset = np.round(np.min(A)/A_scale)\n",
        "B_offset = np.round(np.min(B)/B_scale)\n",
        "A_int = np.clip(np.round(A / A_scale - A_offset), 0, 255)\n",
        "B_int = np.clip(np.round(B / B_scale - B_offset), 0, 255)\n",
        "print(A_int)\n",
        "print(B_int)"
      ],
      "metadata": {
        "colab": {
          "base_uri": "https://localhost:8080/"
        },
        "id": "fUmxLPofBtnV",
        "outputId": "4838bb11-9d76-4ba5-bd6b-2c91482d5a52"
      },
      "execution_count": 7,
      "outputs": [
        {
          "output_type": "stream",
          "name": "stdout",
          "text": [
            "[[194. 236. 128.  69.  77.]\n",
            " [183.   0. 250.  41.  16.]\n",
            " [255.  12. 114. 247. 250.]\n",
            " [ 14.  69. 175. 134. 176.]\n",
            " [234. 198.  68. 250. 118.]]\n",
            "[[141. 168. 101. 255. 199.]\n",
            " [147. 102. 240.  55.  96.]\n",
            " [ 84. 153.  93. 216.   2.]\n",
            " [115. 104. 157.  90.   0.]\n",
            " [102.   3. 156.  79. 106.]]\n"
          ]
        }
      ]
    },
    {
      "cell_type": "code",
      "source": [
        "A_deq = (A_int + A_offset) * A_scale\n",
        "B_deq = (B_int + B_offset) * B_scale\n",
        "print(A_deq)\n",
        "print(B_deq)"
      ],
      "metadata": {
        "colab": {
          "base_uri": "https://localhost:8080/"
        },
        "id": "wfc3QCMiDM2l",
        "outputId": "0a467552-c959-4984-a97a-ffb80b887b2d"
      },
      "execution_count": 8,
      "outputs": [
        {
          "output_type": "stream",
          "name": "stdout",
          "text": [
            "[[0.73325136 0.89118242 0.48507397 0.26321844 0.29330054]\n",
            " [0.69188846 0.00376026 0.94382611 0.15793106 0.06392448]\n",
            " [0.96262742 0.04888342 0.43243029 0.93254532 0.94382611]\n",
            " [0.05640395 0.26321844 0.66180635 0.50763555 0.66556662]\n",
            " [0.88366189 0.74829241 0.25945817 0.94382611 0.44747134]]\n",
            "[[0.57514166 0.66925574 0.43571338 0.97251225 0.77731266]\n",
            " [0.5960559  0.43919908 0.92022665 0.27537085 0.41828484]\n",
            " [0.37645636 0.61697014 0.40782772 0.83656968 0.09062838]\n",
            " [0.48451327 0.4461705  0.63091297 0.3973706  0.08365697]\n",
            " [0.43919908 0.09411409 0.62742726 0.35902782 0.45314191]]\n"
          ]
        }
      ]
    },
    {
      "cell_type": "code",
      "source": [
        "A_error = np.sum((A - A_deq)**2) / 2\n",
        "B_error = np.sum((B - B_deq)**2) / 2\n",
        "print(A_error)\n",
        "print(B_error)"
      ],
      "metadata": {
        "colab": {
          "base_uri": "https://localhost:8080/"
        },
        "id": "w2lUSPB1Dgil",
        "outputId": "04c159f2-2658-4669-ac4d-33b72c5b40f0"
      },
      "execution_count": 9,
      "outputs": [
        {
          "output_type": "stream",
          "name": "stdout",
          "text": [
            "1.4696072572351001e-05\n",
            "1.4690358065327065e-05\n"
          ]
        }
      ]
    },
    {
      "cell_type": "code",
      "source": [
        "T = quant_multiply(A,B,8)\n",
        "T1 = A @ B\n",
        "T2 = (A_int + A_offset) @ (B_int + B_offset) * (A_scale * B_scale)\n",
        "print(T)\n",
        "print(T1)\n",
        "print(T2)\n",
        "Mult_error = np.sum((T - T1)**2) / 2\n",
        "print(Mult_error)"
      ],
      "metadata": {
        "colab": {
          "base_uri": "https://localhost:8080/"
        },
        "id": "Tv36G1pkVJ6t",
        "outputId": "960e3db3-44ff-4746-893d-cd727c1528e2"
      },
      "execution_count": 10,
      "outputs": [
        {
          "output_type": "stream",
          "name": "stdout",
          "text": [
            "[[1.39187727 1.32645936 1.68749653 1.5741981  1.14162195]\n",
            " [0.86007981 1.12349473 0.82959251 1.5491896  0.66710285]\n",
            " [1.61193366 1.4374116  1.82130769 2.02081202 1.31360122]\n",
            " [0.97674678 0.85079993 1.27456804 1.12165972 0.55798561]\n",
            " [1.70575483 1.5433438  2.05566401 1.81818818 1.30512087]]\n",
            "[[1.39226895 1.32729882 1.68556182 1.57326904 1.14087806]\n",
            " [0.86128257 1.12682547 0.82972511 1.54976682 0.667636  ]\n",
            " [1.61214298 1.43779653 1.81846615 2.02302095 1.31667355]\n",
            " [0.97652788 0.85171923 1.27415913 1.12110018 0.55834247]\n",
            " [1.70673002 1.54362171 2.05286005 1.81921351 1.30647414]]\n",
            "[[1.39187727 1.32645936 1.68749653 1.5741981  1.14162195]\n",
            " [0.86007981 1.12349473 0.82959251 1.5491896  0.66710285]\n",
            " [1.61193366 1.4374116  1.82130769 2.02081202 1.31360122]\n",
            " [0.97674678 0.85079993 1.27456804 1.12165972 0.55798561]\n",
            " [1.70575483 1.5433438  2.05566401 1.81818818 1.30512087]]\n",
            "2.7525905605032084e-05\n"
          ]
        }
      ]
    },
    {
      "cell_type": "code",
      "source": [
        "test = np.fromfile('Inception_v3.bin', dtype = np.float32)\n",
        "test.shape"
      ],
      "metadata": {
        "colab": {
          "base_uri": "https://localhost:8080/"
        },
        "id": "8vTEPIPw46a2",
        "outputId": "ebb9e3ba-e582-4542-8b72-a07ec2652f23"
      },
      "execution_count": 51,
      "outputs": [
        {
          "output_type": "execute_result",
          "data": {
            "text/plain": [
              "(23851520,)"
            ]
          },
          "metadata": {},
          "execution_count": 51
        }
      ]
    },
    {
      "cell_type": "code",
      "source": [
        "test_q = np.fromfile('Inception_v3_quantized.bin', dtype = np.int8)\n",
        "test_q.shape"
      ],
      "metadata": {
        "colab": {
          "base_uri": "https://localhost:8080/"
        },
        "id": "4IKytkTb5GXT",
        "outputId": "6c58d978-5a56-4934-c88e-a6b6e91ec692"
      },
      "execution_count": 36,
      "outputs": [
        {
          "output_type": "execute_result",
          "data": {
            "text/plain": [
              "(23951360,)"
            ]
          },
          "metadata": {},
          "execution_count": 36
        }
      ]
    },
    {
      "cell_type": "code",
      "source": [
        "np.max(test)"
      ],
      "metadata": {
        "colab": {
          "base_uri": "https://localhost:8080/"
        },
        "id": "pnEITaDQ5vGC",
        "outputId": "6e5b9392-cb3f-41ea-973d-8850c318853b"
      },
      "execution_count": 46,
      "outputs": [
        {
          "output_type": "execute_result",
          "data": {
            "text/plain": [
              "1.4552433e+34"
            ]
          },
          "metadata": {},
          "execution_count": 46
        }
      ]
    }
  ]
}