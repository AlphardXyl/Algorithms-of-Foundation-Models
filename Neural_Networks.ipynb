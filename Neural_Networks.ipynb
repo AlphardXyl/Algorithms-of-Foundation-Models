{
  "cells": [
    {
      "cell_type": "markdown",
      "metadata": {
        "id": "view-in-github",
        "colab_type": "text"
      },
      "source": [
        "<a href=\"https://colab.research.google.com/github/AlphardXyl/Algorithms-of-Foundation-Models/blob/main/Neural_Networks.ipynb\" target=\"_parent\"><img src=\"https://colab.research.google.com/assets/colab-badge.svg\" alt=\"Open In Colab\"/></a>"
      ]
    },
    {
      "cell_type": "markdown",
      "id": "51363313",
      "metadata": {
        "id": "51363313"
      },
      "source": [
        "# Neural Networks\n",
        "\n",
        "## 1. Introduction\n",
        "\n",
        "Neural networks rely on training data to learn and improve their accuracy over time. However, once these learning algorithms are fine-tuned for accuracy, they are powerful tools in computer science and artificial intelligence, allowing us to classify and cluster data at a high velocity. Tasks in speech recognition or image recognition can take minutes versus hours when compared to the manual identification by human experts. One of the most well-known neural networks is Google’s search algorithm.\n",
        "\n",
        "---\n",
        "## 2. Application\n",
        "\n",
        "### the Fashion MNIST Data Set\n"
      ]
    },
    {
      "cell_type": "code",
      "execution_count": 1,
      "id": "c1129ee7",
      "metadata": {
        "id": "c1129ee7",
        "colab": {
          "base_uri": "https://localhost:8080/"
        },
        "outputId": "acae5cb1-b44d-40e0-d241-90a7ccc6341c"
      },
      "outputs": [
        {
          "output_type": "stream",
          "name": "stdout",
          "text": [
            "Downloading data from https://www.cs.toronto.edu/~kriz/cifar-10-python.tar.gz\n",
            "170498071/170498071 [==============================] - 2s 0us/step\n"
          ]
        }
      ],
      "source": [
        "#!pip install tensorflow\n",
        "from tensorflow import keras\n",
        "import numpy as np\n",
        "import matplotlib.pyplot as plt\n",
        "\n",
        "# Use the keras module to import the necessary data\n",
        "(train_X, train_y), (test_X, test_y) = keras.datasets.cifar10.load_data()"
      ]
    },
    {
      "cell_type": "code",
      "execution_count": 2,
      "id": "0f0b23ca",
      "metadata": {
        "colab": {
          "base_uri": "https://localhost:8080/"
        },
        "id": "0f0b23ca",
        "outputId": "75728a35-f01c-4687-d311-f8a95c8281d1"
      },
      "outputs": [
        {
          "output_type": "stream",
          "name": "stdout",
          "text": [
            "np.shape(train_X) =(50000, 32, 32, 3)\n",
            "np.shape(test_X) = (10000, 32, 32, 3) \n",
            "\n",
            "np.shape(train_X[0]) = (32, 32, 3)\n",
            "np.shape(test_X[0]) = (32, 32, 3) \n",
            "\n",
            "train_X[0] = [[[ 59  62  63]\n",
            "  [ 43  46  45]\n",
            "  [ 50  48  43]\n",
            "  ...\n",
            "  [158 132 108]\n",
            "  [152 125 102]\n",
            "  [148 124 103]]\n",
            "\n",
            " [[ 16  20  20]\n",
            "  [  0   0   0]\n",
            "  [ 18   8   0]\n",
            "  ...\n",
            "  [123  88  55]\n",
            "  [119  83  50]\n",
            "  [122  87  57]]\n",
            "\n",
            " [[ 25  24  21]\n",
            "  [ 16   7   0]\n",
            "  [ 49  27   8]\n",
            "  ...\n",
            "  [118  84  50]\n",
            "  [120  84  50]\n",
            "  [109  73  42]]\n",
            "\n",
            " ...\n",
            "\n",
            " [[208 170  96]\n",
            "  [201 153  34]\n",
            "  [198 161  26]\n",
            "  ...\n",
            "  [160 133  70]\n",
            "  [ 56  31   7]\n",
            "  [ 53  34  20]]\n",
            "\n",
            " [[180 139  96]\n",
            "  [173 123  42]\n",
            "  [186 144  30]\n",
            "  ...\n",
            "  [184 148  94]\n",
            "  [ 97  62  34]\n",
            "  [ 83  53  34]]\n",
            "\n",
            " [[177 144 116]\n",
            "  [168 129  94]\n",
            "  [179 142  87]\n",
            "  ...\n",
            "  [216 184 140]\n",
            "  [151 118  84]\n",
            "  [123  92  72]]]\n"
          ]
        }
      ],
      "source": [
        "# This cell should be run inplace of the cell directly above\n",
        "print(f\"np.shape(train_X) ={np.shape(train_X)}\")\n",
        "print(f\"np.shape(test_X) = {np.shape(test_X)} \\n\")\n",
        "\n",
        "print(f\"np.shape(train_X[0]) = {np.shape(train_X[0])}\")\n",
        "print(f\"np.shape(test_X[0]) = {np.shape(test_X[0])} \\n\")\n",
        "\n",
        "print(f\"train_X[0] = {train_X[0]}\")"
      ]
    },
    {
      "cell_type": "code",
      "execution_count": 3,
      "id": "b6655965",
      "metadata": {
        "colab": {
          "base_uri": "https://localhost:8080/",
          "height": 482
        },
        "id": "b6655965",
        "outputId": "7fff9d0b-dcd8-4c10-861c-4121cde7e852"
      },
      "outputs": [
        {
          "output_type": "stream",
          "name": "stdout",
          "text": [
            "train_y[0] = array([6], dtype=uint8) \n",
            "\n"
          ]
        },
        {
          "output_type": "display_data",
          "data": {
            "text/plain": [
              "<Figure size 600x500 with 1 Axes>"
            ],
            "image/png": "[encoded data removed]"
          },
          "metadata": {}
        }
      ],
      "source": [
        "print(f\"{train_y[0] = } \\n\")\n",
        "plt.figure(figsize=(6, 5))\n",
        "plt.imshow(train_X[1], cmap=\"gray\")\n",
        "plt.show()"
      ]
    },
    {
      "cell_type": "code",
      "execution_count": 4,
      "id": "8b9930f2",
      "metadata": {
        "id": "8b9930f2"
      },
      "outputs": [],
      "source": [
        "# Scale the data for training.\n",
        "train_X = train_X/255\n",
        "test_X = test_X/255\n",
        "\n",
        "# Flatten the training images into coloumn vectors.\n",
        "flat_train_X = []\n",
        "# One hot encode the training labels\n",
        "onehot_train_y = []\n",
        "\n",
        "for x, y in zip(train_X, train_y):\n",
        "    flat_train_X.append(x.flatten().reshape(3072, 1))\n",
        "    temp_vec = np.zeros((10, 1))\n",
        "    temp_vec[y][0] = 1.0\n",
        "    onehot_train_y.append(temp_vec)\n",
        "\n",
        "\n",
        "# Do the same for the testing data\n",
        "flat_test_X = []\n",
        "onehot_test_y = []\n",
        "\n",
        "for x, y in zip(test_X, test_y):\n",
        "    flat_test_X.append(x.flatten().reshape(3072, 1))\n",
        "    temp_vec = np.zeros((10, 1))\n",
        "    temp_vec[y] = 1.0\n",
        "    onehot_test_y.append(temp_vec)"
      ]
    },
    {
      "cell_type": "markdown",
      "id": "41fa9a17",
      "metadata": {
        "id": "41fa9a17"
      },
      "source": [
        "---\n",
        "\n",
        "### 2.1 Building the Network Architecture\n",
        "For our purposes, we will build a multilayered **fully connected**, or **dense**, neural network with $L$ layers, $784$ input notes, $L-2$ hidden layers of arbitrary size, and $10$ output nodes.\n",
        "\n",
        "For our activation function, we will use the sigmoid function:\n",
        "\n",
        "* Sigmoid Function\n",
        "$$\n",
        "\\sigma(z) = \\frac{1}{1+e^{-z}}.\n",
        "$$\n",
        "\n",
        "For our cost function, we will use the Mean Sqaure Error cost:\n",
        "$$\n",
        "C(W, b) = \\frac{1}{2}\\sum_{k=1}^{10}(\\hat{y}^{(i)}_k - y^{(i)}_k)^2.\n",
        "$$\n",
        "\n",
        "Our goal will be to write a custom Python class implementing our desired structure. However, before doing so, we first sequentually write functions to better understand the process of programming the following:\n",
        "\n",
        "* Initializing the weights and biases of each layer\n",
        "* The feedforward phase\n",
        "* Calculation of the cost function\n",
        "* Calculation of the gradient\n",
        "* Iterating stochastic gradient descent\n",
        "\n",
        "First we will define our sigmoid activation function, its derivative, and the mean squared error for a single instance of training data. Do this by running the following code.\n",
        "\n",
        "---"
      ]
    },
    {
      "cell_type": "code",
      "execution_count": 5,
      "id": "fb9ccbf3",
      "metadata": {
        "id": "fb9ccbf3"
      },
      "outputs": [],
      "source": [
        "def sigmoid(z):\n",
        "    return 1.0/(1.0+np.exp(-z))\n",
        "\n",
        "def d_sigmoid(z):\n",
        "    return sigmoid(z)*(1.0 - sigmoid(z))\n",
        "\n",
        "def mse(a, y):\n",
        "    return .5*sum((a[i] - y[i])**2 for i in range(10))[0]"
      ]
    },
    {
      "cell_type": "code",
      "execution_count": 6,
      "id": "f5eee1f3",
      "metadata": {
        "id": "f5eee1f3"
      },
      "outputs": [],
      "source": [
        "def initialize_weights(layers = [3072, 60, 60, 10]):\n",
        "    # The following Python lists will contain numpy matrices\n",
        "    # connected the layers in the neural network\n",
        "    W = [[0.0]]\n",
        "    B = [[0.0]]\n",
        "    for i in range(1, len(layers)):\n",
        "        # The scalling factor is something I found in a research paper :)\n",
        "        w_temp = np.random.randn(layers[i], layers[i-1])*np.sqrt(2/layers[i-1])\n",
        "        b_temp = np.random.randn(layers[i], 1)*np.sqrt(2/layers[i-1])\n",
        "\n",
        "        W.append(w_temp)\n",
        "        B.append(b_temp)\n",
        "    return W, B"
      ]
    },
    {
      "cell_type": "markdown",
      "id": "cb894fa4",
      "metadata": {
        "id": "cb894fa4"
      },
      "source": [
        "---\n",
        "\n",
        "### 2.2 Feedforward Phase\n",
        "\n",
        "For $\\ell = 1, \\dots, L$, each layer $\\ell$ in our network will have two phases, the preactivation phase $$\\mathbf{z}^{\\ell} = W^{\\ell}\\mathbf{a}^{\\ell-1} + \\mathbf{b}^{\\ell},$$ and postactivation phase $$\\mathbf{a}^{\\ell} = \\sigma(\\mathbf{z}^{\\ell}).$$ The preactivation phase consists of a weighted linear combination of postactivation values in the previous layer. The postactivation values consists of passing the preactivation value through an activation function elementwise. Note $\\mathbf{a}^0 = \\mathbf{x}^{(i)}$, where $\\mathbf{x}^{(i)}$ is the current input data into our network.\n",
        "\n",
        "We can test our activation functions and matrix dimensions by running the following code which manually implements the feedforward process on a neural network with the given dimensions.\n",
        "\n",
        "---"
      ]
    },
    {
      "cell_type": "code",
      "execution_count": 7,
      "id": "6f6b9982",
      "metadata": {
        "colab": {
          "base_uri": "https://localhost:8080/"
        },
        "id": "6f6b9982",
        "outputId": "1667ce76-506a-450c-a484-01f0024ae044"
      },
      "outputs": [
        {
          "output_type": "stream",
          "name": "stdout",
          "text": [
            "np.shape(a0) = (3072, 1) \n",
            "\n",
            "np.shape(W[1]) = (60, 3072)\n",
            "np.shape(z1) = (60, 1)\n",
            "np.shape(a1) = (60, 1) \n",
            "\n",
            "np.shape(W[2]) = (60, 60)\n",
            "np.shape(z2) = (60, 1)\n",
            "np.shape(a2) = (60, 1) \n",
            "\n",
            "np.shape(W[3]) = (10, 60)\n",
            "np.shape(z3) = (10, 1)\n",
            "np.shape(a3) = (10, 1) \n",
            "\n",
            "Prediction: np.argmax(y_hat) = 3\n",
            "Target Label: np.argmax(yi) = 0\n",
            "mse(y_hat, yi) = 1.0098900839011398\n"
          ]
        }
      ],
      "source": [
        "W, B = initialize_weights()\n",
        "\n",
        "xi = flat_train_X[0]\n",
        "yi = onehot_train_y[0]\n",
        "a0 = xi\n",
        "\n",
        "print(f\"np.shape(a0) = {np.shape(a0)} \\n\")\n",
        "\n",
        "z1 = W[1] @ a0 + B[1]\n",
        "a1 = sigmoid(z1)\n",
        "\n",
        "print(f\"np.shape(W[1]) = {np.shape(W[1])}\")\n",
        "print(f\"np.shape(z1) = {np.shape(z1)}\")\n",
        "print(f\"np.shape(a1) = {np.shape(a1)} \\n\")\n",
        "\n",
        "z2 = W[2] @ a1 + B[2]\n",
        "a2 = sigmoid(z2)\n",
        "\n",
        "print(f\"np.shape(W[2]) = {np.shape(W[2])}\")\n",
        "print(f\"np.shape(z2) = {np.shape(z2)}\")\n",
        "print(f\"np.shape(a2) = {np.shape(a2)} \\n\")\n",
        "\n",
        "z3 = W[3] @ a2 + B[3]\n",
        "a3 = sigmoid(z3)\n",
        "y_hat = a3\n",
        "print(f\"np.shape(W[3]) = {np.shape(W[3])}\")\n",
        "print(f\"np.shape(z3) = {np.shape(z3)}\")\n",
        "print(f\"np.shape(a3) = {np.shape(a3)} \\n\")\n",
        "\n",
        "\n",
        "print(f\"Prediction: np.argmax(y_hat) = {np.argmax(y_hat)}\")\n",
        "print(f\"Target Label: np.argmax(yi) = {np.argmax(yi)}\")\n",
        "print(f\"mse(y_hat, yi) = {mse(y_hat, yi)}\")"
      ]
    },
    {
      "cell_type": "code",
      "execution_count": 8,
      "id": "b56de712",
      "metadata": {
        "colab": {
          "base_uri": "https://localhost:8080/"
        },
        "id": "b56de712",
        "outputId": "6aec4558-8a80-47f9-c3f2-04c57168dd67"
      },
      "outputs": [
        {
          "output_type": "stream",
          "name": "stdout",
          "text": [
            "Prediction: np.argmax(y_hat) = 3\n",
            "Target Label: np.argmax(yi) = 0\n",
            "mse(y_hat, yi) = 1.0098900839011398\n"
          ]
        }
      ],
      "source": [
        "def forward_pass(W, B, xi, predict_vector = False):\n",
        "    Z = [[0.0]]\n",
        "    A = [xi]\n",
        "    L = len(W) - 1\n",
        "    for i in range(1, L + 1):\n",
        "        z = W[i] @ A[i-1] + B[i]\n",
        "        Z.append(z)\n",
        "\n",
        "        a = sigmoid(z)\n",
        "        A.append(a)\n",
        "\n",
        "    if predict_vector == False:\n",
        "        return Z, A\n",
        "    else:\n",
        "        return A[-1]\n",
        "\n",
        "def predict(W, B, xi):\n",
        "    _, A = forward_pass(W, B, xi)\n",
        "    return np.argmax(A[-1])\n",
        "\n",
        "y_hat = forward_pass(W, B, flat_train_X[0], predict_vector=True)\n",
        "print(f\"Prediction: np.argmax(y_hat) = {np.argmax(y_hat)}\")\n",
        "print(f\"Target Label: np.argmax(yi) = {np.argmax(yi)}\")\n",
        "print(f\"mse(y_hat, yi) = {mse(y_hat, yi)}\")"
      ]
    },
    {
      "cell_type": "code",
      "execution_count": 9,
      "id": "e44e0101",
      "metadata": {
        "id": "e44e0101"
      },
      "outputs": [],
      "source": [
        "\n",
        "def random_experiment(W, B, data_features, data_labels):\n",
        "    i = np.random.randint(len(data_features))\n",
        "    print(f\"Actual label: {np.argmax(data_labels[i])}\")\n",
        "    print(f\"Predicted label: {predict(W, B, data_features[i])}\")\n",
        "\n",
        "\n",
        "def MSE(W, B, X, y):\n",
        "    cost = 0.0\n",
        "    m = 0\n",
        "    for xi, yi in zip(X, y):\n",
        "        a = forward_pass(W, B, xi, predict_vector = True)\n",
        "        cost += mse(a, yi)\n",
        "        m+=1\n",
        "    return cost/m"
      ]
    },
    {
      "cell_type": "code",
      "execution_count": 10,
      "id": "85af1a3b",
      "metadata": {
        "colab": {
          "base_uri": "https://localhost:8080/"
        },
        "id": "85af1a3b",
        "outputId": "b26bae9d-77bd-45aa-d680-b6eafadae6e5"
      },
      "outputs": [
        {
          "output_type": "stream",
          "name": "stdout",
          "text": [
            "MSE(W, B, flat_train_X, onehot_train_y) = 1.0090856545932843 \n",
            "\n",
            "Actual label: 0\n",
            "Predicted label: 3\n"
          ]
        }
      ],
      "source": [
        "print(f\"MSE(W, B, flat_train_X, onehot_train_y) = {MSE(W, B, flat_train_X, onehot_train_y)} \\n\")\n",
        "\n",
        "random_experiment(W, B, flat_train_X, onehot_train_y)"
      ]
    },
    {
      "cell_type": "markdown",
      "id": "cb2d59ec",
      "metadata": {
        "id": "cb2d59ec"
      },
      "source": [
        "---\n",
        "\n",
        "### 2.3 Backpropogation Phase with Stochastic Gradient Descent\n",
        "We are now ready to define a custom Python ```DenseNetwork``` class which initializes the weights and bias for the network, and implements stochastic gradient descent shown below:\n",
        "\n",
        "1. For each $i = 1, \\dots, N$.\n",
        "2. Feedforward $\\mathbf{x}^{(i)}$ into the network.\n",
        "3. Compute $\\delta^{L} = \\nabla_aC\\otimes \\sigma'(\\mathbf{z}^{L})$.\n",
        "4. For $\\ell = L-1, \\dots, 1$, compute $\\delta^{\\ell} = \\big ( (\\mathbf{w}^{\\ell + 1})^{T} \\delta^{\\ell + 1} \\Big )\\otimes \\sigma'(\\mathbf{z}^{\\ell})$.\n",
        "5. For $\\ell = L, L-1, \\dots, 1$,\n",
        "\n",
        "$$\n",
        "w^{\\ell} \\leftarrow w^{\\ell} - \\alpha \\delta^{\\ell}(\\mathbf{a}^{\\ell-1})^{T}\n",
        "$$\n",
        "\n",
        "$$\n",
        "b^{\\ell} \\leftarrow b^{\\ell} - \\alpha \\delta^{\\ell}\n",
        "$$\n",
        "\n",
        "\n",
        "---"
      ]
    },
    {
      "cell_type": "code",
      "execution_count": 11,
      "id": "1205bcd9",
      "metadata": {
        "id": "1205bcd9"
      },
      "outputs": [],
      "source": [
        "\n",
        "class DenseNetwork(object):\n",
        "    def __init__(self, layers = [3072, 60, 60, 10]):\n",
        "        self.layers = layers\n",
        "        self.W, self.B = initialize_weights(layers = self.layers)\n",
        "\n",
        "    def train(self, X_train, y_train, alpha = 0.046, epochs = 4):\n",
        "        # Print the initial mean squared error\n",
        "        self.errors_ = [MSE(self.W, self.B, X_train, y_train)]\n",
        "        print(f\"Starting Cost = {self.errors_[0]}\")\n",
        "\n",
        "        # Find your sample size\n",
        "        sample_size = len(X_train)\n",
        "\n",
        "        # Find the number of non-input layers.\n",
        "        L = len(self.layers) - 1\n",
        "\n",
        "        # For each epoch perform stochastic gradient descent.\n",
        "        for k in range(epochs):\n",
        "            # Loop over each (xi, yi) training pair of data.\n",
        "            for xi, yi in zip(X_train, y_train):\n",
        "                # Use the forward pass function defined before\n",
        "                # and find the preactivation and postactivation values.\n",
        "                Z, A = forward_pass(self.W, self.B, xi)\n",
        "\n",
        "                # Store the errors in a dictionary for clear interpretation\n",
        "                # of computation of these values.\n",
        "                deltas = dict()\n",
        "\n",
        "                # Compute the output error\n",
        "                output_error = (A[L] - yi)*d_sigmoid(Z[L])\n",
        "                deltas[L] = output_error\n",
        "\n",
        "                # Loop from L-1 to 1. Recall the right entry of the range function\n",
        "                # is non-inclusive.\n",
        "                for i in range(L-1, 0, -1):\n",
        "                    # Compute the node errors at each hidden layer\n",
        "                    deltas[i] = (self.W[i+1].T @ deltas[i+1])*d_sigmoid(Z[i])\n",
        "\n",
        "                # Loop over each hidden layer and the output layer to perform gradient\n",
        "                # descent.\n",
        "                for i in range(1, L+1):\n",
        "                    self.W[i] -= alpha*deltas[i] @ A[i-1].T\n",
        "                    self.B[i] -= alpha*deltas[i]\n",
        "\n",
        "            # Show the user the cost over all training examples\n",
        "            self.errors_.append(MSE(self.W, self.B, X_train, y_train))\n",
        "            print(f\"{k + 1}-Epoch Cost = {self.errors_[-1]}\")\n",
        "\n",
        "\n",
        "    def predict(self, xi):\n",
        "        depth = len(self.layers)\n",
        "        _, A = forward_pass(self.W, self.B, xi)\n",
        "        return np.argmax(A[-1])"
      ]
    },
    {
      "cell_type": "code",
      "execution_count": 12,
      "id": "7391bd16",
      "metadata": {
        "colab": {
          "base_uri": "https://localhost:8080/",
          "height": 749
        },
        "id": "7391bd16",
        "outputId": "976e152a-3241-4ad5-ebde-81f2c4a32b3f"
      },
      "outputs": [
        {
          "output_type": "stream",
          "name": "stdout",
          "text": [
            "MSE(net.W, net.B, flat_train_X, onehot_train_y) = 1.4734776834525998 \n",
            "\n",
            "predicted digit is: 1\n",
            "actual digit is: 3\n"
          ]
        },
        {
          "output_type": "display_data",
          "data": {
            "text/plain": [
              "<Figure size 800x800 with 1 Axes>"
            ],
            "image/png": "[encoded data removed]"
          },
          "metadata": {}
        }
      ],
      "source": [
        "# Initialize a network with 3072 input nodes, two hidden layers with 60 nodes each\n",
        "# and a output layer with 10 nodes.\n",
        "net = DenseNetwork(layers = [3072, 120, 145, 120, 10])\n",
        "\n",
        "# Check the mean squared error before training\n",
        "print(f\"MSE(net.W, net.B, flat_train_X, onehot_train_y) = {MSE(net.W, net.B, flat_train_X, onehot_train_y)} \\n\")\n",
        "\n",
        "# Make a random prediction before training\n",
        "i = np.random.randint(0, len(flat_test_X))\n",
        "prediction = net.predict(flat_test_X[i])\n",
        "print(f\"predicted digit is: {prediction}\")\n",
        "print(f\"actual digit is: {np.argmax(onehot_test_y[i])}\")\n",
        "plt.figure(figsize=(8, 8))\n",
        "plt.imshow(test_X[i], cmap=\"gray\")\n",
        "plt.show()"
      ]
    },
    {
      "cell_type": "code",
      "execution_count": null,
      "id": "0fff4ecf",
      "metadata": {
        "colab": {
          "base_uri": "https://localhost:8080/"
        },
        "id": "0fff4ecf",
        "outputId": "d59e44d9-72de-469c-c7fd-0c1003d102b9"
      },
      "outputs": [
        {
          "output_type": "stream",
          "name": "stdout",
          "text": [
            "Starting Cost = 1.4734776834525998\n",
            "1-Epoch Cost = 1.7723379161897683e-05\n",
            "2-Epoch Cost = 8.58145991848685e-06\n"
          ]
        }
      ],
      "source": [
        "# Train your network with stochastic gradient descent!\n",
        "net.train(flat_train_X, onehot_train_y)"
      ]
    },
    {
      "cell_type": "code",
      "execution_count": null,
      "id": "489c7fe5",
      "metadata": {
        "id": "489c7fe5"
      },
      "outputs": [],
      "source": [
        "# Visualize the mean squared error over the training process\n",
        "plt.figure(figsize = (10, 8))\n",
        "epochs = range(len(net.errors_))\n",
        "plt.plot(epochs, net.errors_, marker = \"o\")\n",
        "plt.xticks(epochs)\n",
        "plt.xlabel(\"epochs\")\n",
        "plt.ylabel(\"Mean Squared Error\")\n",
        "plt.title(\"Network MSE During Training\", fontsize = 16)\n",
        "plt.show()\n"
      ]
    },
    {
      "cell_type": "code",
      "execution_count": null,
      "id": "619efd72",
      "metadata": {
        "id": "619efd72"
      },
      "outputs": [],
      "source": [
        "i = np.random.randint(0, len(flat_test_X))\n",
        "prediction = net.predict(flat_test_X[i])\n",
        "print(f\"predicted digit is: {prediction}\")\n",
        "print(f\"actual digit is: {np.argmax(onehot_test_y[i])}\")\n",
        "plt.figure(figsize=(8, 8))\n",
        "plt.imshow(test_X[i], cmap=\"gray\")\n",
        "plt.show()"
      ]
    },
    {
      "cell_type": "code",
      "execution_count": null,
      "id": "f8eac69a",
      "metadata": {
        "id": "f8eac69a"
      },
      "outputs": [],
      "source": [
        "i = np.random.randint(0, len(flat_test_X))\n",
        "prediction = net.predict(flat_test_X[i])\n",
        "print(f\"predicted digit is: {prediction}\")\n",
        "print(f\"actual digit is: {np.argmax(onehot_test_y[i])}\")\n",
        "plt.figure(figsize=(8, 8))\n",
        "plt.imshow(test_X[i], cmap=\"gray\")\n",
        "plt.show()"
      ]
    },
    {
      "cell_type": "code",
      "execution_count": null,
      "id": "503eeae0",
      "metadata": {
        "id": "503eeae0"
      },
      "outputs": [],
      "source": [
        "i = np.random.randint(0, len(flat_test_X))\n",
        "prediction = net.predict(flat_test_X[i])\n",
        "print(f\"predicted digit is: {prediction}\")\n",
        "print(f\"actual digit is: {np.argmax(onehot_test_y[i])}\")\n",
        "plt.figure(figsize=(8, 8))\n",
        "plt.imshow(test_X[i], cmap=\"gray\")\n",
        "plt.show()"
      ]
    },
    {
      "cell_type": "markdown",
      "id": "dee8754c",
      "metadata": {
        "id": "dee8754c"
      },
      "source": [
        "### 2.4 Classification Error"
      ]
    },
    {
      "cell_type": "code",
      "execution_count": null,
      "id": "ce3af9bd",
      "metadata": {
        "id": "ce3af9bd"
      },
      "outputs": [],
      "source": [
        "# Compute the classification accuracy of our trained model on the test data (I bet we did well!)\n",
        "sum([int(net.predict(x) == y) for x, y in zip(flat_test_X, test_y)])/len(onehot_test_y)"
      ]
    },
    {
      "cell_type": "code",
      "source": [
        "import torch\n",
        "torch.save(net,'my_nn.pt')\n",
        "\n",
        "x=torch.randn((3072,1))\n",
        "torch.onnx.export(net, # 搭建的网络\n",
        "    x, # 输入张量\n",
        "    'my_nn.onnx')"
      ],
      "metadata": {
        "id": "tebsYa-5RyFP"
      },
      "id": "tebsYa-5RyFP",
      "execution_count": null,
      "outputs": []
    },
    {
      "cell_type": "code",
      "source": [
        "model = torch.load('my_nn.pt')\n",
        "testM = np.random.rand(32,32,3)\n",
        "flat_testM = testM.flatten().reshape(3072, 1)\n",
        "prediction = model.predict(flat_testM)"
      ],
      "metadata": {
        "id": "67yM1gA1VqMv"
      },
      "id": "67yM1gA1VqMv",
      "execution_count": null,
      "outputs": []
    },
    {
      "cell_type": "code",
      "source": [
        "i = np.random.randint(0, len(flat_test_X))\n",
        "prediction = model.predict(flat_test_X[i])\n",
        "print(f\"predicted digit is: {prediction}\")\n",
        "print(f\"actual digit is: {np.argmax(onehot_test_y[i])}\")\n",
        "plt.figure(figsize=(8, 8))\n",
        "plt.imshow(test_X[i], cmap=\"gray\")\n",
        "plt.show()"
      ],
      "metadata": {
        "id": "yKS1g0M_UMQ7"
      },
      "id": "yKS1g0M_UMQ7",
      "execution_count": null,
      "outputs": []
    }
  ],
  "metadata": {
    "kernelspec": {
      "display_name": "Python 3 (ipykernel)",
      "language": "python",
      "name": "python3"
    },
    "language_info": {
      "codemirror_mode": {
        "name": "ipython",
        "version": 3
      },
      "file_extension": ".py",
      "mimetype": "text/x-python",
      "name": "python",
      "nbconvert_exporter": "python",
      "pygments_lexer": "ipython3",
      "version": "3.9.13"
    },
    "colab": {
      "provenance": [],
      "include_colab_link": true
    }
  },
  "nbformat": 4,
  "nbformat_minor": 5
}